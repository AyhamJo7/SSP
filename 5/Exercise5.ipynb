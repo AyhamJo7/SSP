{
 "cells": [
  {
   "cell_type": "markdown",
   "id": "836371ae",
   "metadata": {},
   "source": [
    "# Exercise 5 Solution: Cepstral Techniques"
   ]
  },
  {
   "cell_type": "markdown",
   "id": "b5348c14",
   "metadata": {},
   "source": [
    "## 1. Generating Voiced Excitation Source\n",
    "Generate a 32 ms pulse sequence for a voiced source at 100 Hz."
   ]
  },
  {
   "cell_type": "code",
   "execution_count": null,
   "id": "39a7fa4c",
   "metadata": {},
   "outputs": [],
   "source": [
    "import numpy as np\n",
    "import matplotlib.pyplot as plt\n",
    "\n",
    "# 1. Sampling rate and window length\n",
    "fs = 16000  # Hz\n",
    "duration_ms = 32  # ms\n",
    "N = int(duration_ms/1000 * fs)  # number of samples (32 ms)\n",
    "\n",
    "# 2. Fundamental frequency and period\n",
    "f0 = 100  # Hz\n",
    "period_samples = int(fs / f0)  # samples per pitch period\n",
    "\n",
    "# 3. Generate voiced excitation u[n]\n",
    "u = np.zeros(N)\n",
    "u[::period_samples] = 1  # impulse at each period\n",
    "\n",
    "# 4. Plot the pulse train\n",
    "plt.figure(figsize=(8, 2))\n",
    "plt.stem(np.arange(N)/fs*1000, u, basefmt=\" \")\n",
    "plt.xlabel('Time [ms]')\n",
    "plt.title(f'Voiced Excitation: {f0} Hz Pulse Train (32 ms)')\n",
    "plt.show()\n"
   ]
  },
  {
   "cell_type": "markdown",
   "id": "c306f71e",
   "metadata": {},
   "source": [
    "**Answer:**\n",
    "- Pulses occur every 1/f₀ = 10 ms (160 samples).\n",
    "- In 32 ms, we observe ~4 pulses, modeling the glottal source for voiced speech."
   ]
  },
  {
   "cell_type": "markdown",
   "id": "5dfb6176",
   "metadata": {},
   "source": [
    "## 2. Artificial Speech Generation and Spectra\n",
    "Filter the excitation through the vocal tract coefficients and compare spectra."
   ]
  },
  {
   "cell_type": "code",
   "execution_count": null,
   "id": "37601957",
   "metadata": {},
   "outputs": [],
   "source": [
    "import numpy as np\n",
    "import matplotlib.pyplot as plt\n",
    "from scipy.signal import lfilter, freqz\n",
    "\n",
    "# 1. Load filter coefficients\n",
    "a = np.loadtxt('filter-data.txt')  # LPC filter a coefficients\n",
    "\n",
    "# 2. Filter the excitation to create speech signal s[n]\n",
    "s = lfilter([1.0], a, u)\n",
    "\n",
    "# 3. Apply Hann window\n",
    "w = np.hanning(N)\n",
    "uw = u * w\n",
    "sw = s * w\n",
    "\n",
    "# 4. FFT parameters\n",
    "Nfft = N\n",
    "freqs = np.fft.rfftfreq(Nfft, 1/fs)\n",
    "\n",
    "# 5. Compute spectra\n",
    "w_h, H = freqz([1.0], a, worN=Nfft, fs=fs)\n",
    "Uw = np.fft.rfft(uw, n=Nfft)\n",
    "Sw = np.fft.rfft(sw, n=Nfft)\n",
    "\n",
    "# 6. Plot amplitude and log-amplitude spectra\n",
    "eps = np.finfo(float).eps\n",
    "plt.figure(figsize=(12, 6))\n",
    "\n",
    "plt.subplot(2, 3, 1)\n",
    "plt.plot(w_h, np.abs(H)); plt.title('|H(ω)|'); plt.xlabel('Hz')\n",
    "\n",
    "plt.subplot(2, 3, 2)\n",
    "plt.plot(freqs, np.abs(Uw)); plt.title('|U_w(ω)|'); plt.xlabel('Hz')\n",
    "\n",
    "plt.subplot(2, 3, 3)\n",
    "plt.plot(freqs, np.abs(Sw)); plt.title('|S_w(ω)|'); plt.xlabel('Hz')\n",
    "\n",
    "plt.subplot(2, 3, 4)\n",
    "plt.plot(w_h, 20*np.log10(np.abs(H)+eps)); plt.title('20log|H|'); plt.xlabel('Hz')\n",
    "\n",
    "plt.subplot(2, 3, 5)\n",
    "plt.plot(freqs, 20*np.log10(np.abs(Uw)+eps)); plt.title('20log|U_w|'); plt.xlabel('Hz')\n",
    "\n",
    "plt.subplot(2, 3, 6)\n",
    "plt.plot(freqs, 20*np.log10(np.abs(Sw)+eps)); plt.title('20log|S_w|'); plt.xlabel('Hz')\n",
    "\n",
    "plt.tight_layout(); plt.show()\n"
   ]
  },
  {
   "cell_type": "markdown",
   "id": "9f9f8771",
   "metadata": {},
   "source": [
    "**Answers:**\n",
    "- **|H(ω)|**: Formant peaks of the vocal tract filter.\n",
    "- **|U_w(ω)|**: Harmonics at multiples of f₀.\n",
    "- **|S_w(ω)|**: Harmonic structure shaped by filter envelope.\n",
    "- **Log spectra** emphasize envelope and harmonic detail."
   ]
  },
  {
   "cell_type": "markdown",
   "id": "7a730d4c",
   "metadata": {},
   "source": [
    "## 3. Real Cepstrum Computation\n",
    "Compute the real cepstra of the filter, excitation, and speech signals."
   ]
  },
  {
   "cell_type": "code",
   "execution_count": null,
   "id": "de5efc28",
   "metadata": {},
   "outputs": [],
   "source": [
    "import numpy as np\n",
    "import matplotlib.pyplot as plt\n",
    "\n",
    "eps = np.finfo(np.float64).eps\n",
    "\n",
    "# Compute cepstra\n",
    "ch = np.real(np.fft.ifft(np.log(np.abs(H)+eps)))\n",
    "cu = np.real(np.fft.ifft(np.log(np.abs(Uw)+eps)))\n",
    "cs = np.real(np.fft.ifft(np.log(np.abs(Sw)+eps)))\n",
    "\n",
    "plt.figure(figsize=(10, 6))\n",
    "plt.subplot(3,1,1); plt.stem(ch, basefmt=\" \"); plt.title('Cepstrum of Filter')\n",
    "plt.subplot(3,1,2); plt.stem(cu, basefmt=\" \"); plt.title('Cepstrum of Excitation')\n",
    "plt.subplot(3,1,3); plt.stem(cs, basefmt=\" \"); plt.title('Cepstrum of Speech')\n",
    "plt.tight_layout(); plt.show()\n"
   ]
  },
  {
   "cell_type": "markdown",
   "id": "8b9ec9fa",
   "metadata": {},
   "source": [
    "**Answers:**\n",
    "- Cepstrum is symmetric since log|X| is even.\n",
    "- Periodic excitation yields cepstral peaks at quefrency = pitch period."
   ]
  },
  {
   "cell_type": "markdown",
   "id": "a50055d5",
   "metadata": {},
   "source": [
    "## 4. Fundamental Frequency Estimation from Cepstrum\n",
    "Locate the quefrency peak corresponding to f₀."
   ]
  },
  {
   "cell_type": "code",
   "execution_count": null,
   "id": "bec39194",
   "metadata": {},
   "outputs": [],
   "source": [
    "# Peak search range: 0.5ms–20ms\n",
    "min_q = int(fs*0.0005); max_q = int(fs*0.02)\n",
    "cs_search = cs.copy()\n",
    "cs_search[:min_q] = -np.inf; cs_search[max_q:] = -np.inf\n",
    "\n",
    "peak = np.argmax(cs_search)\n",
    "f0_est = fs/peak\n",
    "print(f\"Estimated f₀: {f0_est:.2f} Hz\")  # should ≈100 Hz\n"
   ]
  },
  {
   "cell_type": "markdown",
   "id": "22ee0b4c",
   "metadata": {},
   "source": [
    "**Answer:** Peak at ~160 samples → f₀≈100 Hz, matching original.\n",
    "### a) Is there any symmetry within the real cepstrum of the signals? Why?\n",
    "\n",
    "**Answer:**  \n",
    "The real cepstrum is defined as  \n",
    "\\[\n",
    "c[n] = \\Re\\{\\mathrm{IDFT}\\{\\ln|X(e^{j\\omega})|\\}\\}.\n",
    "\\]  \n",
    "For any real time-domain signal \\(x[n]\\), its magnitude spectrum \\(|X(e^{j\\omega})|\\) is an even function of frequency (\\(|X(e^{j\\omega})|=|X(e^{-j\\omega})|\\)). Taking the logarithm preserves that even symmetry, and the inverse DFT of a real, even spectrum yields a **real and even** sequence in quefrency. Hence\n",
    "\n",
    "\\[\n",
    "c[n] = c[-n]\\quad(\\text{or, in discrete periodic form, }c[k] = c[N-k]),\n",
    "\\]\n",
    "\n",
    "and you observe mirror symmetry about \\(n=0\\).\n",
    "\n",
    "---\n",
    "\n",
    "### b) Why is the real (and also the complex) cepstrum of any real-valued time-domain signal real-valued?\n",
    "\n",
    "**Answer:**  \n",
    "1. **Real cepstrum:**  \n",
    "   - We compute \\(\\ln|X(e^{j\\omega})|\\), which is a real, even function of \\(\\omega\\).  \n",
    "   - Its inverse DFT therefore produces a purely **real** sequence \\(c[n]\\).\n",
    "\n",
    "2. **Complex cepstrum:**  \n",
    "   - We compute \\(\\ln X(e^{j\\omega})\\), including both magnitude and (unwrapped) phase.  \n",
    "   - For a real \\(x[n]\\), the spectrum obeys Hermitian symmetry:  \n",
    "     \\[\n",
    "       X(e^{j\\omega}) = X^*(e^{-j\\omega}).\n",
    "     \\]  \n",
    "   - Consequently \\(\\ln X(e^{j\\omega})\\) satisfies  \n",
    "     \\[\n",
    "       \\ln X(e^{j\\omega}) = \\bigl[\\ln X(e^{-j\\omega})\\bigr]^*,\n",
    "     \\]  \n",
    "     i.e. it is Hermitian-symmetric.  \n",
    "   - The inverse DFT of a Hermitian-symmetric function is real.  \n",
    "\n",
    "In both cases, the inherent spectral symmetry of real signals forces the cepstrum to be real-valued.\n",
    "\n",
    "---\n",
    "\n",
    "### c) For voiced sounds, a cepstral peak at a distinct position can be observed. Why is that so? Explain how the position of the peak is related to the fundamental frequency.\n",
    "\n",
    "**Answer:**  \n",
    "- **Periodic excitation:** Voiced sounds are produced by a quasi-periodic impulse train at period \\(T_0 = 1/f_0\\).  \n",
    "- **Harmonic spectrum:** A periodic pulse train in time yields a comb of harmonics in frequency at multiples of \\(f_0\\).  \n",
    "- **Log spectrum ripple:** Taking \\(\\ln|S(e^{j\\omega})|\\) introduces a periodic ripple in frequency with spacing \\(\\Delta\\omega = 2\\pi f_0\\).  \n",
    "- **Cepstral impulse:** The inverse DFT of a sinusoidal ripple of frequency \\(f_0\\) in the log-magnitude domain produces a sharp impulse at quefrency  \n",
    "  \\[\n",
    "    n_0 = \\frac{f_s}{f_0}\\quad\\text{(samples)},\n",
    "  \\]  \n",
    "  corresponding exactly to the pitch period \\(T_0\\).\n",
    "\n",
    "Thus the cepstral peak appears at the quefrency index \\(n_0\\), and you can recover the fundamental frequency via  \n",
    "\\[\n",
    "f_0 = \\frac{f_s}{n_0}.\n",
    "\\]\n",
    "\n",
    "\n",
    "\n",
    "\n",
    "\n",
    "\n",
    "\n",
    "\n",
    "Ask ChatGPT\n",
    "\n",
    "\n"
   ]
  },
  {
   "cell_type": "markdown",
   "id": "99480872",
   "metadata": {},
   "source": [
    "## 5. Cepstral Liftering and Reconstruction\n",
    "Separate filter and source using cepstral liftering."
   ]
  },
  {
   "cell_type": "code",
   "execution_count": null,
   "id": "b8a62725",
   "metadata": {},
   "outputs": [],
   "source": [
    "import numpy as np\n",
    "import matplotlib.pyplot as plt\n",
    "\n",
    "def lifter(cep, L):\n",
    "    N = len(cep)\n",
    "    ch = np.zeros(N); ch[:L+1] = cep[:L+1]; ch[-L+1:] = cep[-L+1:]\n",
    "    cu = cep - ch\n",
    "    return ch, cu\n",
    "\n",
    "L_ms = 1.5; L = int(L_ms/1000*fs)\n",
    "ch, cu = lifter(cs, L)\n",
    "H_est = np.exp(np.fft.fft(ch)); U_est = np.exp(np.fft.fft(cu))\n",
    "\n",
    "plt.figure(figsize=(8,4))\n",
    "plt.plot(freqs, 20*np.log10(np.abs(H)+eps), label='Orig H')\n",
    "plt.plot(freqs, 20*np.log10(np.abs(H_est)+eps), '--', label='Est H'); plt.legend()\n",
    "plt.title('Filter Envelope Estimation via Liftering'); plt.xlabel('Hz'); plt.ylabel('dB')\n",
    "plt.show()\n"
   ]
  },
  {
   "cell_type": "markdown",
   "id": "3ba22c60",
   "metadata": {},
   "source": [
    "**Answer:** L = 1.5 ms gives best envelope match; liftering separates slow-varying filter from fast-varying excitation."
   ]
  },
  {
   "cell_type": "markdown",
   "id": "6dce9971",
   "metadata": {},
   "source": [
    "## 6. Real Speech Cepstrogram and Liftering\n",
    "Apply to `speech1.wav`."
   ]
  },
  {
   "cell_type": "code",
   "execution_count": null,
   "id": "5da06a93",
   "metadata": {},
   "outputs": [],
   "source": [
    "import numpy as np\n",
    "import matplotlib.pyplot as plt\n",
    "from scipy.io import wavfile\n",
    "from scipy.signal import stft\n",
    "\n",
    "fs_s, x_s = wavfile.read('speech1.wav'); x_s = x_s.astype(float)\n",
    "Nw = int(0.032*fs_s); hop = int(0.016*fs_s)\n",
    "f_s, t_s, Z_s = stft(x_s, fs_s, window='hann', nperseg=Nw, noverlap=Nw-hop)\n",
    "log_spec = 20*np.log10(np.abs(Z_s)+eps)\n",
    "\n",
    "plt.figure(figsize=(10,4))\n",
    "plt.pcolormesh(t_s, f_s, log_spec, shading='gouraud')\n",
    "plt.title('Real Speech Log Spectrogram'); plt.xlabel('Time [s]'); plt.ylabel('Frequency [Hz]'); plt.colorbar()\n",
    "plt.tight_layout(); plt.show()\n",
    "\n",
    "# Cepstrogram\n",
    "num_fr = Z_s.shape[1]\n",
    "ceps = np.zeros((num_fr, Nw))\n",
    "for i in range(num_fr):\n",
    "    mag = np.abs(Z_s[:,i])\n",
    "    ceps[i,:] = np.real(np.fft.ifft(np.log(mag+eps), n=Nw))\n",
    "\n",
    "plt.figure(figsize=(10,4))\n",
    "plt.imshow(ceps.T, aspect='auto', origin='lower', extent=[0, t_s[-1], 0, Nw/fs_s])\n",
    "plt.title('Cepstrogram'); plt.xlabel('Time [s]'); plt.ylabel('Quefrency [s]'); plt.colorbar()\n",
    "plt.tight_layout(); plt.show()\n"
   ]
  },
  {
   "cell_type": "markdown",
   "id": "bef8a11b",
   "metadata": {},
   "source": [
    "**Answers:**\n",
    "- Spectrogram shows formants and harmonics.\n",
    "- Cepstrogram shows periodic ridges at quefrencies ~2–8 ms (pitch²)."
   ]
  }
 ],
 "metadata": {
  "language_info": {
   "name": "python"
  }
 },
 "nbformat": 4,
 "nbformat_minor": 5
}
