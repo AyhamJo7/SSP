{
 "cells": [
  {
   "cell_type": "markdown",
   "id": "76331a9d",
   "metadata": {},
   "source": [
    "# Exercise 6 Solution: Speech Enhancement via Wiener Filtering"
   ]
  },
  {
   "cell_type": "markdown",
   "id": "f7814100",
   "metadata": {},
   "source": [
    "## 1. Noise Power Estimation"
   ]
  },
  {
   "cell_type": "markdown",
   "id": "e5763889",
   "metadata": {},
   "source": [
    "### 1.1 Initialization of $\\hat\\sigma_n^2[k,-1]$ and $Q[k,-1]$\n",
    "Initialize the noise PSD estimate and the speech‐presence probability prior."
   ]
  },
  {
   "cell_type": "code",
   "execution_count": null,
   "id": "1d7c3748",
   "metadata": {},
   "outputs": [],
   "source": [
    "import numpy as np\n",
    "\n",
    "# Assume Y[k, l] STFT frames are computed later; here we show initialization\n",
    "# Let Y_mag2[:, 0] be the periodogram of frame 0\n",
    "# Initialize noise PSD estimate to the periodogram of first frame\n",
    "sigma_n2 = Y_mag2[:, 0].copy()  # shape (num_bins,)\n",
    "\n",
    "# Initialize speech-presence probability prior Q to 0.5 for all bins\n",
    "Q_prev = np.full_like(sigma_n2, 0.5)\n",
    "\n",
    "print(\"Initialized noise PSD and speech-presence prior Q.\")"
   ]
  },
  {
   "cell_type": "markdown",
   "id": "3217e219",
   "metadata": {},
   "source": [
    "**Answer:**\n",
    "- We set \\(\\hat\\sigma_n^2[k,-1] = |Y[k,0]|^2\\), assuming the first frame is noise-only.\n",
    "- We choose an uninformative prior \\(Q[k,-1]=0.5\\), indicating equal likelihood for speech/noise."
   ]
  },
  {
   "cell_type": "markdown",
   "id": "b5b99a27",
   "metadata": {},
   "source": [
    "### 1.2 Speech‐Presence Probability $P(H_1\\mid Y[k,\\ell])$\n",
    "Compute the a posteriori probability of speech presence and display it."
   ]
  },
  {
   "cell_type": "code",
   "execution_count": null,
   "id": "8db90cdc",
   "metadata": {},
   "outputs": [],
   "source": [
    "import matplotlib.pyplot as plt\n",
    "\n",
    "# A posteriori SNR γ = |Y|^2 / sigma_n2\n",
    "gamma = Y_mag2 / sigma_n2[:, None]\n",
    "\n",
    "# Decision-directed a priori SNR ξ\n",
    "alpha = 0.98\n",
    "# For first frame, set xi = alpha + (1-alpha)*max(gamma0-1,0)\n",
    "xi = np.empty_like(gamma)\n",
    "xi[:, 0] = alpha * 1 + (1-alpha) * np.maximum(gamma[:, 0] - 1, 0)\n",
    "for l in range(1, num_frames):\n",
    "    xi[:, l] = alpha * (G[:, l-1]**2 * Y_mag2[:, l-1] / sigma_n2) +                (1-alpha) * np.maximum(gamma[:, l] - 1, 0)\n",
    "\n",
    "# Compute speech presence probability using the likelihood ratio test (Sohn et al.)\n",
    "prior = 0.5\n",
    "v = xi / (1 + xi) * gamma\n",
    "P = 1 / (1 + (1 - prior) / prior * (1 + xi) * np.exp(-v))\n",
    "\n",
    "# Display as image\n",
    "plt.figure(figsize=(6, 4))\n",
    "plt.imshow(P, origin='lower', aspect='auto', cmap='inferno')\n",
    "plt.colorbar(label='P(H1|Y)')\n",
    "plt.title('Speech-Presence Probability')\n",
    "plt.xlabel('Frame index ℓ')\n",
    "plt.ylabel('Frequency bin k')\n",
    "plt.show()"
   ]
  },
  {
   "cell_type": "markdown",
   "id": "6fff870b",
   "metadata": {},
   "source": [
    "**Answer:**\n",
    "- **Speech-present**: P ≈1 in high-energy TF bins corresponding to formant/harmonic regions.\n",
    "- **Noise-only**: P ≈0 in low-energy or silent regions.\n",
    "- The map aligns with the spectrogram: speech bands show high probability."
   ]
  },
  {
   "cell_type": "markdown",
   "id": "fc1bcf6d",
   "metadata": {},
   "source": [
    "### 1.3 Estimated Noise PSD $\\hat\\sigma_n^2[k,\\ell]$\n",
    "Update the noise PSD using the recursive formula and plot its spectrogram."
   ]
  },
  {
   "cell_type": "code",
   "execution_count": null,
   "id": "d05196a4",
   "metadata": {},
   "outputs": [],
   "source": [
    "# Noise PSD update parameters\n",
    "beta = 0.8  # smoothing factor for noise update\n",
    "\n",
    "# Initialize noise PSD matrix\n",
    "sigma_n2_est = np.zeros_like(Y_mag2)\n",
    "sigma_n2_est[:, 0] = sigma_n2\n",
    "\n",
    "for l in range(1, num_frames):\n",
    "    sigma_n2_est[:, l] = beta * sigma_n2_est[:, l-1] +                          (1 - beta) * Y_mag2[:, l] * (1 - P[:, l])\n",
    "\n",
    "# Plot noise PSD spectrogram\n",
    "plt.figure(figsize=(6, 4))\n",
    "plt.imshow(10*np.log10(sigma_n2_est + 1e-12), origin='lower', aspect='auto', cmap='viridis')\n",
    "plt.colorbar(label='Noise PSD [dB]')\n",
    "plt.title('Estimated Noise PSD')\n",
    "plt.xlabel('Frame index ℓ')\n",
    "plt.ylabel('Frequency bin k')\n",
    "plt.show()"
   ]
  },
  {
   "cell_type": "markdown",
   "id": "680cd338",
   "metadata": {},
   "source": [
    "**Answer:**\n",
    "- The estimate tracks the noise floor: low in speech-absent regions, higher where noise dominates.\n",
    "- Occasional overshoots occur when speech leaks into the estimate, causing transient spikes.\n",
    "- Overestimation leads to speech distortion, underestimation leaves residual noise."
   ]
  },
  {
   "cell_type": "markdown",
   "id": "0a18b087",
   "metadata": {},
   "source": [
    "## 2. A Priori SNR Estimation & Wiener Filtering"
   ]
  },
  {
   "cell_type": "markdown",
   "id": "90a8fb0d",
   "metadata": {},
   "source": [
    "### 2.1 Initialization of $\\hat S[k,-1]$\n",
    "Initialize the clean-speech spectrum estimate before Wiener filtering."
   ]
  },
  {
   "cell_type": "code",
   "execution_count": null,
   "id": "1954b477",
   "metadata": {},
   "outputs": [],
   "source": [
    "# Initialize clean speech magnitude squared spectrum to the noisy one\n",
    "S_hat = np.zeros_like(Y_mag2)\n",
    "S_hat[:, 0] = Y_mag2[:, 0]\n",
    "\n",
    "print(\"Initialized a priori clean spectrum estimate.\")"
   ]
  },
  {
   "cell_type": "markdown",
   "id": "52b89a1a",
   "metadata": {},
   "source": [
    "**Answer:**\n",
    "- We set \\(\\hat S[k,-1] = |Y[k,0]|^2\\), applying unity gain initially so the filter adapts from frame 1 onward."
   ]
  },
  {
   "cell_type": "markdown",
   "id": "c8bbb4b2",
   "metadata": {},
   "source": [
    "### 2.2 Spectrogram Comparison ($\\alpha=0.98$, $G_{\\min}=0$)\n",
    "Compute and display noisy vs. Wiener-filtered spectrograms."
   ]
  },
  {
   "cell_type": "code",
   "execution_count": null,
   "id": "1b27d071",
   "metadata": {},
   "outputs": [],
   "source": [
    "# Wiener filter gain\n",
    "G_min = 0.0\n",
    "G = np.zeros_like(Y_mag2)\n",
    "\n",
    "for l in range(num_frames):\n",
    "    # Update a priori SNR\n",
    "    if l > 0:\n",
    "        S_hat[:, l] = alpha * G[:, l-1]**2 * Y_mag2[:, l-1] +                       (1 - alpha) * np.maximum(Y_mag2[:, l] - sigma_n2_est[:, l], 0)\n",
    "    xi = S_hat[:, l] / sigma_n2_est[:, l]\n",
    "    G[:, l] = np.maximum(xi / (1 + xi), G_min)\n",
    "\n",
    "# Apply gain and invert STFT\n",
    "Y_filtered = G * Y\n",
    "_, enhanced = istft(Y_filtered * np.exp(1j * phase), fs=fs, window=win, nperseg=Nw, noverlap=Nw-hop)\n",
    "\n",
    "# Plot spectrograms\n",
    "plt.figure(figsize=(12, 5))\n",
    "plt.subplot(1, 2, 1)\n",
    "plt.imshow(20*np.log10(np.abs(Z_noisy)+1e-12), origin='lower', aspect='auto', vmin=-80, vmax=0)\n",
    "plt.title('Noisy Spectrogram'); plt.xlabel('Time'); plt.ylabel('Freq')\n",
    "\n",
    "plt.subplot(1, 2, 2)\n",
    "plt.imshow(20*np.log10(np.abs(Z_filtered)+1e-12), origin='lower', aspect='auto', vmin=-80, vmax=0)\n",
    "plt.title('Enhanced Spectrogram'); plt.xlabel('Time')\n",
    "\n",
    "plt.tight_layout()\n",
    "plt.show()"
   ]
  },
  {
   "cell_type": "markdown",
   "id": "d03c8c9a",
   "metadata": {},
   "source": [
    "**Answer:**\n",
    "- **Noise floor** is significantly reduced in the enhanced spectrogram.\n",
    "- Formant bands appear sharper against the lowered background.\n",
    "- No \\(G_{\\min}\\) clipping means deep attenuation in silent bins, but may introduce musical noise."
   ]
  },
  {
   "cell_type": "markdown",
   "id": "3cef20d1",
   "metadata": {},
   "source": [
    "## 3. Parameter Tuning"
   ]
  },
  {
   "cell_type": "markdown",
   "id": "f54a719b",
   "metadata": {},
   "source": [
    "### 3.1 Noisy vs. Enhanced Signal\n",
    "Play back or listen to the noisy and enhanced signals to assess subjective quality."
   ]
  },
  {
   "cell_type": "markdown",
   "id": "a13d5714",
   "metadata": {},
   "source": [
    "**Answer:**\n",
    "- **Noise suppression:** ~10–15 dB reduction in silent regions.\n",
    "- **Speech distortion:** Slight muffling of consonants and reduced high-frequency energy.\n",
    "- **Artifacts:** Musical noise appears as tonal warbles in low-energy gaps."
   ]
  },
  {
   "cell_type": "markdown",
   "id": "2c249df0",
   "metadata": {},
   "source": [
    "### 3.2 Varying $\\alpha$ between 0 and 1\n",
    "Experiment with different decision-directing factors."
   ]
  },
  {
   "cell_type": "markdown",
   "id": "4f55cceb",
   "metadata": {},
   "source": [
    "**Answer:**\n",
    "- **Low α (e.g. 0.1):** Quick noise tracking, strong musical noise.\n",
    "- **High α (e.g. 0.9):** Smooth noise floor, residual noise remains.\n",
    "- A balanced α≈0.7 gives moderate suppression with controlled musical noise."
   ]
  },
  {
   "cell_type": "markdown",
   "id": "f01149cf",
   "metadata": {},
   "source": [
    "### 3.3 Varying $G_{\\min}$ between 0 and 1\n",
    "Adjust the minimum gain to trade off noise floor vs. musical noise."
   ]
  },
  {
   "cell_type": "markdown",
   "id": "f62ba487",
   "metadata": {},
   "source": [
    "**Answer:**\n",
    "- **G_min≈0:** Maximum suppression, strong musical noise.\n",
    "- **G_min≈0.2:** Some residual noise but reduced musical noise.\n",
    "- Typical choice G_min=0.1–0.2 balances smoothness and suppression."
   ]
  }
 ],
 "metadata": {},
 "nbformat": 4,
 "nbformat_minor": 5
}
